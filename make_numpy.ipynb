{
 "cells": [
  {
   "cell_type": "code",
   "execution_count": 1,
   "metadata": {
    "collapsed": true
   },
   "outputs": [],
   "source": [
    "import pandas as pd\n",
    "import numpy as np\n",
    "import pandas as pd\n",
    "import sklearn\n",
    "from sklearn.model_selection import cross_val_score\n",
    "%matplotlib inline"
   ]
  },
  {
   "cell_type": "code",
   "execution_count": 17,
   "metadata": {
    "collapsed": true
   },
   "outputs": [],
   "source": [
    "df = pd.read_csv(\"train.csv\")\n",
    "dfc = df.iloc[:, 2:90]\n",
    "standardized_df = (dfc - dfc.mean()) / dfc.std()\n",
    "X = standardized_df.as_matrix()\n",
    "Y = df['target'].as_matrix()\n",
    "np.save(\"train_X\", X)\n",
    "np.save(\"train_t\", Y)"
   ]
  },
  {
   "cell_type": "code",
   "execution_count": 5,
   "metadata": {
    "collapsed": true
   },
   "outputs": [],
   "source": [
    "df1 = df[df.period == \"train1\"].iloc[:, 2:90]\n",
    "standardized_df1 = (df1 - df1.mean()) / df1.std()\n",
    "df2 = df[df.period == \"train2\"].iloc[:, 2:90]\n",
    "standardized_df2 = (df2 - df2.mean()) / df2.std()\n",
    "df3 = df[df.period == \"train3\"].iloc[:, 2:90]\n",
    "standardized_df3 = (df3 - df3.mean()) / df3.std()\n",
    "df4 = df[df.period == \"train4\"].iloc[:, 2:90]\n",
    "standardized_df4 = (df4 - df4.mean()) / df4.std()\n",
    "df5 = df[df.period == \"train5\"].iloc[:, 2:90]\n",
    "standardized_df5 = (df5 - df5.mean()) / df5.std()\n",
    "df6 = df[df.period == \"train6\"].iloc[:, 2:90]\n",
    "standardized_df6 = (df6 - df6.mean()) / df6.std()\n",
    "df7 = df[df.period == \"train7\"].iloc[:, 2:90]\n",
    "standardized_df7 = (df7 - df7.mean()) / df7.std()\n",
    "df8 = df[df.period == \"train8\"].iloc[:, 2:90]\n",
    "standardized_df8 = (df8 - df8.mean()) / df8.std()\n",
    "df9 = df[df.period == \"train9\"].iloc[:, 2:90]\n",
    "standardized_df9 = (df9 - df9.mean()) / df9.std()\n",
    "df10 = df[df.period == \"train10\"].iloc[:, 2:90]\n",
    "standardized_df10 = (df10 - df10.mean()) / df10.std()\n",
    "df11 = df[df.period == \"train11\"].iloc[:, 2:90]\n",
    "standardized_df11 = (df11 - df11.mean()) / df11.std()\n",
    "df12 = df[df.period == \"train12\"].iloc[:, 2:90]\n",
    "standardized_df12 = (df12 - df12.mean()) / df12.std()\n",
    "df13 = df[df.period == \"train13\"].iloc[:, 2:90]\n",
    "standardized_df13 = (df13 - df13.mean()) / df13.std()\n",
    "df14 = df[df.period == \"train14\"].iloc[:, 2:90]\n",
    "standardized_df14 = (df14 - df14.mean()) / df14.std()"
   ]
  },
  {
   "cell_type": "code",
   "execution_count": 14,
   "metadata": {
    "collapsed": false
   },
   "outputs": [],
   "source": [
    "dfx = pd.DataFrame()\n",
    "dfx = dfx.append(df1)\n",
    "dfx = dfx.append(df2)\n",
    "dfx = dfx.append(df3)\n",
    "dfx = dfx.append(df4)\n",
    "dfx = dfx.append(df5)\n",
    "dfx = dfx.append(df6)\n",
    "dfx = dfx.append(df7)\n",
    "dfx = dfx.append(df8)\n",
    "dfx = dfx.append(df9)\n",
    "dfx = dfx.append(df10)\n",
    "dfx = dfx.append(df11)\n",
    "dfx = dfx.append(df12)\n",
    "dfx = dfx.append(df13)\n",
    "dfx = dfx.append(df14)"
   ]
  },
  {
   "cell_type": "code",
   "execution_count": 20,
   "metadata": {
    "collapsed": true
   },
   "outputs": [],
   "source": [
    "Xx = dfx.as_matrix()\n",
    "np.save(\"train_Xx\", Xx)"
   ]
  },
  {
   "cell_type": "code",
   "execution_count": 21,
   "metadata": {
    "collapsed": true
   },
   "outputs": [],
   "source": [
    "dfmini = df[df.period != \"train14\"].iloc[:, 2:90]\n",
    "standardized_dfmini = (dfmini - dfmini.mean()) / dfmini.std()\n",
    "Xmini = standardized_dfmini.as_matrix()\n",
    "Ymini = df[df.period != \"train14\"]['target'].as_matrix()\n",
    "np.save(\"train_Xmini\", Xmini)\n",
    "np.save(\"train_tmini\", Ymini)\n",
    "dftest = df[df.period == \"train14\"].iloc[:, 2:90]\n",
    "standardized_dftest = (dftest - dfmini.mean()) / dfmini.std()\n",
    "Xtest = standardized_dftest.as_matrix()\n",
    "Ytest = df[df.period == \"train14\"]['target'].as_matrix()\n",
    "np.save(\"test_Xmini\", Xtest)\n",
    "np.save(\"test_tmini\", Ytest)"
   ]
  },
  {
   "cell_type": "code",
   "execution_count": 22,
   "metadata": {
    "collapsed": true
   },
   "outputs": [],
   "source": [
    "dfx = pd.DataFrame()\n",
    "dfx = dfx.append(df1)\n",
    "dfx = dfx.append(df2)\n",
    "dfx = dfx.append(df3)\n",
    "dfx = dfx.append(df4)\n",
    "dfx = dfx.append(df5)\n",
    "dfx = dfx.append(df6)\n",
    "dfx = dfx.append(df7)\n",
    "dfx = dfx.append(df8)\n",
    "dfx = dfx.append(df9)\n",
    "dfx = dfx.append(df10)\n",
    "dfx = dfx.append(df11)\n",
    "dfx = dfx.append(df12)\n",
    "dfx = dfx.append(df13)\n",
    "Xxmini = dfx.as_matrix()\n",
    "np.save(\"train_Xxmini\", Xxmini)\n",
    "np.save(\"test_Xxmini\", df14)"
   ]
  }
 ],
 "metadata": {
  "kernelspec": {
   "display_name": "Python [Root]",
   "language": "python",
   "name": "Python [Root]"
  },
  "language_info": {
   "codemirror_mode": {
    "name": "ipython",
    "version": 2
   },
   "file_extension": ".py",
   "mimetype": "text/x-python",
   "name": "python",
   "nbconvert_exporter": "python",
   "pygments_lexer": "ipython2",
   "version": "2.7.12"
  }
 },
 "nbformat": 4,
 "nbformat_minor": 0
}
